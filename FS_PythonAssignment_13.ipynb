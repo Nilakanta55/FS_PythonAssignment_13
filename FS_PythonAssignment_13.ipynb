{
 "cells": [
  {
   "cell_type": "markdown",
   "id": "b94a5634",
   "metadata": {},
   "source": [
    "### 1. What advantages do Excel spreadsheets have over CSV spreadsheets?"
   ]
  },
  {
   "cell_type": "markdown",
   "id": "fc98e349",
   "metadata": {},
   "source": [
    "Excel is more superior when compared with the CSV file format; thus, CSV consumes less amount of file size when the user is importing data; it is a much faster format compared to excel. CSV does not manipulate data and stores it as-is. Excel also allows the user the add-in feature.\n",
    "\n",
    "CSV is a plain text format with a series of values separated by commas whereas Excel is a binary file that holds information about all the worksheets in a workbook. CSV file can't perform operations on data while Excel can perform operations on the data.\n",
    "\n",
    "CSV files can be used with any spreadsheet program, such as MS Excel, Open Office Calc, or Google Spreadsheets. They differ from other spreadsheet file types in that you can only have a single sheet in a file, they can not save cell, column, or row styling, and can not save formulas."
   ]
  },
  {
   "cell_type": "code",
   "execution_count": null,
   "id": "a9db0454",
   "metadata": {},
   "outputs": [],
   "source": []
  },
  {
   "cell_type": "markdown",
   "id": "f73fe551",
   "metadata": {},
   "source": [
    "### 2.What do you pass to csv.reader() and csv.writer() to create reader and writer objects?"
   ]
  },
  {
   "cell_type": "markdown",
   "id": "f9ba4293",
   "metadata": {},
   "source": [
    "csv.reader(csvfile, dialect='excel', **fmtparams)\n",
    "Return a reader object which will iterate over lines in the given csvfile. csvfile can be any object which supports the iterator protocol and returns a string each time its __next__() method is called — file objects and list objects are both suitable. If csvfile is a file object, it should be opened with newline=''. 1 An optional dialect parameter can be given which is used to define a set of parameters specific to a particular CSV dialect. It may be an instance of a subclass of the Dialect class or one of the strings returned by the list_dialects() function. The other optional fmtparams keyword arguments can be given to override individual formatting parameters in the current dialect. For full details about the dialect and formatting parameters, see section Dialects and Formatting Parameters.\n",
    "\n",
    "Each row read from the csv file is returned as a list of strings. No automatic data type conversion is performed unless the QUOTE_NONNUMERIC format option is specified (in which case unquoted fields are transformed into floats)."
   ]
  },
  {
   "cell_type": "code",
   "execution_count": null,
   "id": "e4622720",
   "metadata": {},
   "outputs": [],
   "source": [
    "A short usage example:\n",
    "import csv\n",
    "with open('eggs.csv', newline='') as csvfile:\n",
    "    spamreader = csv.reader(csvfile, delimiter=' ', quotechar='|')\n",
    "    for row in spamreader:\n",
    "        print(', '.join(row))\n",
    "Spam, Spam, Spam, Spam, Spam, Baked Beans\n",
    "Spam, Lovely Spam, Wonderful Spam"
   ]
  },
  {
   "cell_type": "markdown",
   "id": "d2903541",
   "metadata": {},
   "source": [
    "csv.writer(csvfile, dialect='excel', **fmtparams)\n",
    "Return a writer object responsible for converting the user’s data into delimited strings on the given file-like object. csvfile can be any object with a write() method. If csvfile is a file object, it should be opened with newline='' 1. An optional dialect parameter can be given which is used to define a set of parameters specific to a particular CSV dialect. It may be an instance of a subclass of the Dialect class or one of the strings returned by the list_dialects() function. The other optional fmtparams keyword arguments can be given to override individual formatting parameters in the current dialect. For full details about dialects and formatting parameters, see the Dialects and Formatting Parameters section. To make it as easy as possible to interface with modules which implement the DB API, the value None is written as the empty string. While this isn’t a reversible transformation, it makes it easier to dump SQL NULL data values to CSV files without preprocessing the data returned from a cursor.fetch* call. All other non-string data are stringified with str() before being written."
   ]
  },
  {
   "cell_type": "code",
   "execution_count": null,
   "id": "4ab0f4cc",
   "metadata": {},
   "outputs": [],
   "source": [
    "A short usage example:\n",
    "\n",
    "import csv\n",
    "with open('eggs.csv', 'w', newline='') as csvfile:\n",
    "    spamwriter = csv.writer(csvfile, delimiter=' ',\n",
    "                            quotechar='|', quoting=csv.QUOTE_MINIMAL)\n",
    "    spamwriter.writerow(['Spam'] * 5 + ['Baked Beans'])\n",
    "    spamwriter.writerow(['Spam', 'Lovely Spam', 'Wonderful Spam'])"
   ]
  },
  {
   "cell_type": "code",
   "execution_count": null,
   "id": "89dd2212",
   "metadata": {},
   "outputs": [],
   "source": []
  },
  {
   "cell_type": "markdown",
   "id": "f027084f",
   "metadata": {},
   "source": [
    "### 3. What modes do File objects for reader and writer objects need to be opened in?"
   ]
  },
  {
   "cell_type": "markdown",
   "id": "03d85e98",
   "metadata": {},
   "source": [
    "In order to open a file for reading or writing purposes, we must use the built-in open() function. The open() function uses two arguments.\n",
    "...\n",
    "Where\n",
    "* File_obj also called handle is the variable to add the file object.\n",
    "* filename: Name of the file.\n",
    "* mode: To tell the interpreter which way the file will be used.\n",
    "\n",
    "r: Opens a file for reading only\n",
    "\n",
    "r+: Opens a file for both reading and writing\n",
    "\n",
    "w: Opens a file for writing only\n",
    "\n",
    "w+: Open a file for writing and reading.\n",
    "\n",
    "a: Opens a file for appending\n",
    "\n",
    "a+: Opens a file for both appending and reading"
   ]
  },
  {
   "cell_type": "code",
   "execution_count": null,
   "id": "91d1cf41",
   "metadata": {},
   "outputs": [],
   "source": []
  },
  {
   "cell_type": "markdown",
   "id": "58a3c5bd",
   "metadata": {},
   "source": [
    "### 4. What method takes a list argument and writes it to a CSV file?"
   ]
  },
  {
   "cell_type": "markdown",
   "id": "431d5eb3",
   "metadata": {},
   "source": [
    "The csv. writer writerow method takes an iterable as an argument. Your result set has to be a list (rows) of lists (columns).\n",
    "\n",
    "csv is the name of the file, the “w” mode is used to write the file, to write the list to the CSV file write = csv. writer(f), to write each row of the list to csv file writer. writerow() is used.\n",
    "\n",
    "Here, we can see write a list to csv in python\n",
    "\n",
    "In this example, I have imported a module called csv and declared a variable as details.\n",
    "And another variable called rows as rows = [ [‘sushma’, ‘2nd’, ‘2023’, ‘Physics’], [‘john’, ‘3rd’, ‘2022’, ‘M2’], [‘kushi’, ‘4th’, ‘2021’, ‘M4’]] and then to open the csv file, I have used with open(‘student.csv’, ‘w’) as f: is used to open the file.\n",
    "\n",
    "The student.csv is the name of the file, the “w” mode is used to write the file, to write the list to the CSV file write = csv.writer(f), to write each row of the list to csv file writer.writerow() is used."
   ]
  },
  {
   "cell_type": "code",
   "execution_count": 4,
   "id": "54402fae",
   "metadata": {},
   "outputs": [],
   "source": [
    "import csv \n",
    "Details = ['Name', 'class', 'passoutYear', 'subject']  \n",
    "rows = [ ['sushma', '2nd', '2023', 'Physics'],  ['john', '3rd', '2022', 'M2'],  ['kushi', '4th', '2021', 'M4']] \n",
    "with open('student.csv', 'w') as f: \n",
    "    write = csv.writer(f) \n",
    "    write.writerow(Details) \n",
    "    write.writerows(rows) "
   ]
  },
  {
   "cell_type": "code",
   "execution_count": null,
   "id": "58b1c297",
   "metadata": {},
   "outputs": [],
   "source": []
  },
  {
   "cell_type": "markdown",
   "id": "4ce5e939",
   "metadata": {},
   "source": [
    "### 5. What do the keyword arguments delimiter and line terminator do?"
   ]
  },
  {
   "cell_type": "code",
   "execution_count": null,
   "id": "20b606ca",
   "metadata": {},
   "outputs": [],
   "source": [
    "The delimiter and lineterminator Keyword Arguments\n",
    "Say you want to separate cells with a tab character instead of a comma and you want the rows to be double-spaced. You could enter something like the following into the interactive shell:\n",
    "\n",
    "\n",
    "   >>> import csv\n",
    "   >>> csvFile = open('example.tsv', 'w', newline='')\n",
    "❶ >>> csvWriter = csv.writer(csvFile, delimiter='\\t', lineterminator='\\n\\n')\n",
    "   >>> csvWriter.writerow(['apples', 'oranges', 'grapes'])\n",
    "   24\n",
    "   >>> csvWriter.writerow(['eggs', 'bacon', 'ham'])\n",
    "   17\n",
    "   >>> csvWriter.writerow(['spam', 'spam', 'spam', 'spam', 'spam', 'spam'])\n",
    "   32\n",
    "   >>> csvFile.close()\n",
    "This changes the delimiter and line terminator characters in your file. The delimiter is the character that appears between cells on a row. By default, the delimiter for a CSV file is a comma. The line terminator is the character that comes at the end of a row. By default, the line terminator is a newline. You can change characters to different values by using the delimiter and lineterminator keyword arguments with csv.writer().\n",
    "\n",
    "Passing delimeter='\\t' and lineterminator='\\n\\n' ❶ changes the character between cells to a tab and the character between rows to two newlines. We then call writerow() three times to give us three rows.\n",
    "\n",
    "This produces a file named example.tsv with the following contents:\n",
    "\n",
    "\n",
    "apples  oranges grapes\n",
    "\n",
    "eggs    bacon   ham\n",
    "spam    spam    spam    spam    spam    spam\n",
    "Now that our cells are separated by tabs, we’re using the file extension .tsv, for tab-separated values."
   ]
  },
  {
   "cell_type": "code",
   "execution_count": null,
   "id": "ae5e177c",
   "metadata": {},
   "outputs": [],
   "source": []
  },
  {
   "cell_type": "markdown",
   "id": "cac24abe",
   "metadata": {},
   "source": [
    "### 6. What function takes a string of JSON data and returns a Python data structure?"
   ]
  },
  {
   "cell_type": "markdown",
   "id": "66564ca9",
   "metadata": {},
   "source": [
    "loads() method return Python data structure of JSON string or data.\n",
    "\n",
    "\n",
    "JSONDecoder class is used for deserialization of any Python object while performing decoding. It contains three different methods of decoding which are\n",
    "\n",
    "* default(o) – Implemented in the subclass and return deserialized object o object.\n",
    "* decode(o) – Same as json.loads() method return Python data structure of JSON string or data.\n",
    "* raw_decode(o) – Represent Python dictionary one by one and decode object o.\n",
    "With the help of decode() method of JSONDecoder class, we can also decode JSON string as shown in below Python JSON decoder example.\n",
    "\n",
    "import json\n",
    "#import JSONDecoder class from json\n",
    "from json.decoder import JSONDecoder\n",
    "colour_string = '{ \"colour\": [\"red\", \"yellow\"]}'\n",
    "#directly called decode method of JSON\n",
    "JSONDecoder().decode(colour_string)"
   ]
  },
  {
   "cell_type": "code",
   "execution_count": null,
   "id": "97b2aca5",
   "metadata": {},
   "outputs": [],
   "source": []
  },
  {
   "cell_type": "markdown",
   "id": "2ff4dcc7",
   "metadata": {},
   "source": [
    "### 7. What function takes a Python data structure and returns a string of JSON data?"
   ]
  },
  {
   "cell_type": "markdown",
   "id": "f13516a0",
   "metadata": {},
   "source": [
    "To convert Python list to json, use the json. dumps() method. The json. dumps() is a built-in Python method that takes a list as an argument and returns json data type.\n",
    "\n",
    "json() – Python requests. response. json() returns a JSON object of the result (if the result was written in JSON format, if not it raises an error). Python requests are generally used to fetch the content from a particular resource URI.\n",
    "\n",
    "How do I encode a JSON string in Python?\n",
    "It converts the given Python data structure(ex:dict) into its valid JSON object. To handle the data flow in a file, the JSON library in Python uses a dump() and dumps() method, that does the conversion and makes it easy to write data into files.\n",
    "..."
   ]
  },
  {
   "cell_type": "code",
   "execution_count": null,
   "id": "f8e56938",
   "metadata": {},
   "outputs": [],
   "source": []
  }
 ],
 "metadata": {
  "kernelspec": {
   "display_name": "Python 3",
   "language": "python",
   "name": "python3"
  },
  "language_info": {
   "codemirror_mode": {
    "name": "ipython",
    "version": 3
   },
   "file_extension": ".py",
   "mimetype": "text/x-python",
   "name": "python",
   "nbconvert_exporter": "python",
   "pygments_lexer": "ipython3",
   "version": "3.8.8"
  }
 },
 "nbformat": 4,
 "nbformat_minor": 5
}
